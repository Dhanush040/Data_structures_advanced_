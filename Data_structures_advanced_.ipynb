{
  "nbformat": 4,
  "nbformat_minor": 0,
  "metadata": {
    "colab": {
      "provenance": []
    },
    "kernelspec": {
      "name": "python3",
      "display_name": "Python 3"
    },
    "language_info": {
      "name": "python"
    }
  },
  "cells": [
    {
      "cell_type": "code",
      "execution_count": null,
      "metadata": {
        "id": "LX3CO0IXkIHf",
        "colab": {
          "base_uri": "https://localhost:8080/"
        },
        "outputId": "e4268a34-9523-4954-8d0a-4d73aefca157"
      },
      "outputs": [
        {
          "output_type": "stream",
          "name": "stdout",
          "text": [
            "sdrawkcab ekil skool txet siht woh rednow I\n"
          ]
        }
      ],
      "source": [
        "#1)write code on reverse a string\n",
        "def my_function(x):\n",
        "  return x[::-1]\n",
        "\n",
        "mytxt = my_function(\"I wonder how this text looks like backwards\")\n",
        "\n",
        "print(mytxt)\n"
      ]
    },
    {
      "cell_type": "code",
      "source": [
        "#2) write a code to count the number of vowels a string\n",
        "string = \"Dhanush P\"\n",
        "vowels = \"aeiouAEIOU\"\n",
        "\n",
        "count = sum(string.count(vowel) for vowel in vowels)\n",
        "print(count)"
      ],
      "metadata": {
        "colab": {
          "base_uri": "https://localhost:8080/"
        },
        "id": "ye2ppS6osyYh",
        "outputId": "12583186-107e-4c6f-bb33-b63c83ca4b6d"
      },
      "execution_count": null,
      "outputs": [
        {
          "output_type": "stream",
          "name": "stdout",
          "text": [
            "2\n"
          ]
        }
      ]
    },
    {
      "cell_type": "code",
      "source": [
        "#3)write code to check if a given string is a palindrome or not\n",
        "#\n",
        "s = \"malayalam\"\n",
        "ans = \"palindrome\"\n",
        "\n",
        "if ans:\n",
        "    print(\"Yes\")\n",
        "else:\n",
        "    print(\"No\")"
      ],
      "metadata": {
        "colab": {
          "base_uri": "https://localhost:8080/"
        },
        "id": "jrUwRHrdvj_d",
        "outputId": "4f3e4486-5298-4f1f-96ae-45de1720a294"
      },
      "execution_count": null,
      "outputs": [
        {
          "output_type": "stream",
          "name": "stdout",
          "text": [
            "Yes\n"
          ]
        }
      ]
    },
    {
      "cell_type": "code",
      "source": [
        "#4 write a code to check if two given string are anagrams of each other.\n",
        "str1 = \"Race\"\n",
        "str2 = \"Care\"\n",
        "\n",
        "# convert both the strings into lowercase\n",
        "str1 = str1.lower()\n",
        "str2 = str2.lower()\n",
        "\n",
        "# check if length is same\n",
        "if(len(str1) == len(str2)):\n",
        "\n",
        "    # sort the strings\n",
        "    sorted_str1 = sorted(str1)\n",
        "    sorted_str2 = sorted(str2)\n",
        "\n",
        "    # if sorted char arrays are same\n",
        "    if(sorted_str1 == sorted_str2):\n",
        "        print(str1 + \" and \" + str2 + \" are anagram.\")\n",
        "    else:\n",
        "        print(str1 + \" and \" + str2 + \" are not anagram.\")\n",
        "\n"
      ],
      "metadata": {
        "colab": {
          "base_uri": "https://localhost:8080/"
        },
        "id": "Gw_qAJy_x9HS",
        "outputId": "cc2b16f1-7352-4a82-c69b-eef3373f1345"
      },
      "execution_count": null,
      "outputs": [
        {
          "output_type": "stream",
          "name": "stdout",
          "text": [
            "race and care are anagram.\n"
          ]
        }
      ]
    },
    {
      "cell_type": "code",
      "source": [
        "#5 write a code to find all occurrences of given substring within another string."
      ],
      "metadata": {
        "id": "62ldNHHc002D"
      },
      "execution_count": null,
      "outputs": []
    },
    {
      "cell_type": "code",
      "source": [
        "# Python program to find indices of all\n",
        "# occurrences of one String in other.\n",
        "\n",
        "\n",
        "def printIndex(str, s):\n",
        "\n",
        "    flag = False\n",
        "    for i in range(len(str)):\n",
        "        if (str[i:i + len(s)] == s):\n",
        "\n",
        "            print(i, end=\" \")\n",
        "            flag = True\n",
        "\n",
        "    if (flag == False):\n",
        "        print(\"NONE\")\n",
        "\n",
        "\n",
        "\n",
        "str1 = \"pwsikills\"\n",
        "str2 = \"skills\"\n",
        "printIndex(str1, str2)\n",
        "\n",
        "\n"
      ],
      "metadata": {
        "colab": {
          "base_uri": "https://localhost:8080/"
        },
        "id": "k8A2AI2K3HfG",
        "outputId": "b46d47e4-892e-4bef-b8c6-23f449eb02dd"
      },
      "execution_count": null,
      "outputs": [
        {
          "output_type": "stream",
          "name": "stdout",
          "text": [
            "NONE\n"
          ]
        }
      ]
    },
    {
      "cell_type": "code",
      "source": [
        "#6 write code to perform basic string compression using the count of repeated characters\n",
        "def solve(s):\n",
        "   res = \"\"\n",
        "   cnt = 1\n",
        "   for i in range(1, len(s)):\n",
        "      if s[i - 1] == s[i]:\n",
        "         cnt += 1\n",
        "      else:\n",
        "         res = res + s[i - 1]\n",
        "         if cnt > 1:\n",
        "            res += str(cnt)\n",
        "         cnt = 1\n",
        "   res = res + s[-1]\n",
        "   if cnt > 1:\n",
        "      res += str(cnt)\n",
        "   return res\n",
        "\n",
        "s = \"abbbaaaaaaccdaaab\"\n",
        "print(solve(s))"
      ],
      "metadata": {
        "colab": {
          "base_uri": "https://localhost:8080/"
        },
        "id": "yGjIdEqe3Us4",
        "outputId": "3f9cd681-d5f0-49df-ac83-0e0959363739"
      },
      "execution_count": null,
      "outputs": [
        {
          "output_type": "stream",
          "name": "stdout",
          "text": [
            "ab3a6c2da3b\n"
          ]
        }
      ]
    },
    {
      "cell_type": "code",
      "source": [
        "#7) write code to determine if a string has all unique characters.\n",
        "st = \"abcbd\"\n",
        "x=list(set(st))\n",
        "y=list(st)\n",
        "x.sort()\n",
        "y.sort()\n",
        "if(x==y):\n",
        "    print(True)\n",
        "else:\n",
        "    print(False)"
      ],
      "metadata": {
        "colab": {
          "base_uri": "https://localhost:8080/"
        },
        "id": "eHrm8-GJ6S-8",
        "outputId": "68eb4a42-6f1e-440b-e1c0-936896322801"
      },
      "execution_count": null,
      "outputs": [
        {
          "output_type": "stream",
          "name": "stdout",
          "text": [
            "False\n"
          ]
        }
      ]
    },
    {
      "cell_type": "code",
      "source": [
        "#8) write code to convert a given string upper case or lowercase\n",
        "def convert_string_case(s, to_upper=True):\n",
        "\n",
        "    if to_upper:\n",
        "        return s.upper()\n",
        "    else:\n",
        "        return s.lower()\n",
        "\n",
        "input_string = \"Hello, World!\"\n",
        "print(\"Original:\", input_string)\n",
        "print(\"Uppercase:\", convert_string_case(input_string, to_upper=True))\n",
        "print(\"Lowercase:\", convert_string_case(input_string, to_upper=False))\n"
      ],
      "metadata": {
        "colab": {
          "base_uri": "https://localhost:8080/"
        },
        "id": "Y-FhpHNC8h7K",
        "outputId": "152ab036-f3ba-4bfa-b82a-52b9aa74fe21"
      },
      "execution_count": null,
      "outputs": [
        {
          "output_type": "stream",
          "name": "stdout",
          "text": [
            "Original: Hello, World!\n",
            "Uppercase: HELLO, WORLD!\n",
            "Lowercase: hello, world!\n"
          ]
        }
      ]
    },
    {
      "cell_type": "code",
      "source": [
        "#9 Write a code to count the number of words in a string\n",
        "test_string = \"Pw siklls gives best knowledge\"\n",
        "\n",
        "# printing original string\n",
        "print (\"The original string is : \" + test_string)\n",
        "\n",
        "# to count words in string\n",
        "res = test_string.count(\" \")+1\n",
        "\n",
        "# printing result\n",
        "print (\"The number of words in string are : \" + str(res))"
      ],
      "metadata": {
        "colab": {
          "base_uri": "https://localhost:8080/"
        },
        "id": "Jww_AZJT-7Ss",
        "outputId": "ad26915d-fe32-48a9-8a9d-f913501eca28"
      },
      "execution_count": null,
      "outputs": [
        {
          "output_type": "stream",
          "name": "stdout",
          "text": [
            "The original string is : Pw siklls gives best knowledge\n",
            "The number of words in string are : 5\n"
          ]
        }
      ]
    },
    {
      "cell_type": "code",
      "source": [
        "#10 write a code to concatenate two strings without using +operator"
      ],
      "metadata": {
        "id": "rnH65azIAi8H"
      },
      "execution_count": null,
      "outputs": []
    },
    {
      "cell_type": "code",
      "source": [
        "def concatenate(string1, string2):\n",
        "  \"\"\"Concatenates two strings using string formatting.\"\"\"\n",
        "  return f\"{string1}{string2}\"\n",
        "\n",
        "\n",
        "str1 = \"Hello\"\n",
        "str2 = \"World\"\n",
        "combined_string = concatenate(str1, str2)\n",
        "print(combined_string)\n"
      ],
      "metadata": {
        "colab": {
          "base_uri": "https://localhost:8080/"
        },
        "id": "dm44jaNVljpP",
        "outputId": "fd7ba725-85c3-4b35-874a-40ea22d386b8"
      },
      "execution_count": null,
      "outputs": [
        {
          "output_type": "stream",
          "name": "stdout",
          "text": [
            "HelloWorld\n"
          ]
        }
      ]
    },
    {
      "cell_type": "code",
      "source": [
        "#11 write a code to remove all occurrences of specific element from a list"
      ],
      "metadata": {
        "id": "2qm7hbt9lqvD"
      },
      "execution_count": null,
      "outputs": []
    },
    {
      "cell_type": "code",
      "source": [
        "def remove_all(data_list, element):\n",
        "  \"\"\"Removes all occurrences of a specific element from a list using list comprehension.\"\"\"\n",
        "  return [item for item in data_list if item != element]\n",
        "\n",
        "# Example usage\n",
        "my_list = [1, 2, 3, 2, 1, 4, 2]\n",
        "element_to_remove = 2\n",
        "filtered_list = remove_all(my_list, element_to_remove)\n",
        "print(filtered_list)  # Output: [1, 3, 1, 4]\n"
      ],
      "metadata": {
        "colab": {
          "base_uri": "https://localhost:8080/"
        },
        "id": "s1AJweDfm3AM",
        "outputId": "48ab0f73-36a5-4ca0-8b31-c391e59f8c80"
      },
      "execution_count": null,
      "outputs": [
        {
          "output_type": "stream",
          "name": "stdout",
          "text": [
            "[1, 3, 1, 4]\n"
          ]
        }
      ]
    },
    {
      "cell_type": "code",
      "source": [
        "#12 Implement a code to find the second largest number in a given list of integers."
      ],
      "metadata": {
        "id": "Ea94iMn4nHEa"
      },
      "execution_count": null,
      "outputs": []
    },
    {
      "cell_type": "code",
      "source": [
        "def find_second_largest(num_list):\n",
        "  \"\"\"Finds the second largest number in a list of integers using two loops.\"\"\"\n",
        "  if len(num_list) < 2:\n",
        "    raise ValueError(\"List must contain at least two elements.\")\n",
        "\n",
        "  largest = second_largest = float('-inf')  # Initialize with negative infinity\n",
        "\n",
        "  for num in num_list:\n",
        "    if num > largest:\n",
        "      largest, second_largest = num, largest\n",
        "    elif num > second_largest and num != largest:\n",
        "      second_largest = num\n",
        "\n",
        "  return second_largest\n",
        "\n",
        "\n",
        "number_list = [10, 5, 15, 2, 20]\n",
        "second_max = find_second_largest(number_list)\n",
        "print(f\"Second largest number: {second_max}\")"
      ],
      "metadata": {
        "colab": {
          "base_uri": "https://localhost:8080/"
        },
        "id": "gl23fpu1oJCq",
        "outputId": "5b2a6cdf-b502-4e65-94af-b29c2d3ad878"
      },
      "execution_count": null,
      "outputs": [
        {
          "output_type": "stream",
          "name": "stdout",
          "text": [
            "Second largest number: 15\n"
          ]
        }
      ]
    },
    {
      "cell_type": "code",
      "source": [
        "#13 create a code to count the occurrences of each element in alist and return\n",
        "#a dictionary with elements as keys and their counts as values.\n"
      ],
      "metadata": {
        "id": "20TF4aYlogaT"
      },
      "execution_count": null,
      "outputs": []
    },
    {
      "cell_type": "code",
      "source": [
        "def count_occurrences(data_list):\n",
        "  \"\"\"Counts the occurrences of each element in a list and returns a dictionary.\n",
        "\n",
        "  Args:\n",
        "      data_list: The list to count element occurrences in.\n",
        "\n",
        "  Returns:\n",
        "      A dictionary with elements as keys and their counts as values.\n",
        "  \"\"\"\n",
        "\n",
        "  element_counts = {}\n",
        "  for element in data_list:\n",
        "    if element in element_counts:\n",
        "      element_counts[element] += 1\n",
        "    else:\n",
        "      element_counts[element] = 1\n",
        "  return element_counts\n",
        "\n",
        "my_list = [1, 2, 2, 3, 1, 4, 2]\n",
        "element_counts = count_occurrences(my_list)\n",
        "print(element_counts)\n"
      ],
      "metadata": {
        "colab": {
          "base_uri": "https://localhost:8080/"
        },
        "id": "NcnygCOTpyu5",
        "outputId": "7e3b65ef-9162-457b-9220-4716cab5656e"
      },
      "execution_count": null,
      "outputs": [
        {
          "output_type": "stream",
          "name": "stdout",
          "text": [
            "{1: 2, 2: 3, 3: 1, 4: 1}\n"
          ]
        }
      ]
    },
    {
      "cell_type": "code",
      "source": [
        "#14 Write a code to reverse a list in-place with out using any built-in\n",
        "#reverse functions.\n",
        "\n",
        "def reverse_list(data_list):\n",
        "  \"\"\"Reverses a list in-place without using built-in reverse functions.\n",
        "\n",
        "  Args:\n",
        "      data_list: The list to reverse.\n",
        "  \"\"\"\n",
        "  left_pointer = 0\n",
        "  right_pointer = len(data_list) - 1\n",
        "\n",
        "  # Iterate until the pointers meet in the middle\n",
        "  while left_pointer < right_pointer:\n",
        "    # Swap elements at left and right pointers\n",
        "    data_list[left_pointer], data_list[right_pointer] = data_list[right_pointer], data_list[left_pointer]\n",
        "    left_pointer += 1\n",
        "    right_pointer -= 1\n",
        "\n",
        "\n",
        "original_list = [1, 2, 3, 4, 5]\n",
        "reverse_list(original_list)\n",
        "print(original_list)"
      ],
      "metadata": {
        "colab": {
          "base_uri": "https://localhost:8080/"
        },
        "id": "WVbwLUAhp1uX",
        "outputId": "33bc3d30-8c2d-4160-beb6-104ecb0dd675"
      },
      "execution_count": null,
      "outputs": [
        {
          "output_type": "stream",
          "name": "stdout",
          "text": [
            "[5, 4, 3, 2, 1]\n"
          ]
        }
      ]
    },
    {
      "cell_type": "code",
      "source": [
        "#15 Implement a code to find and remove duplicate from a list while preserving\n",
        "#the original order of element\n",
        "def remove_duplicates(data_list):\n",
        "  \"\"\"Removes duplicates from a list while preserving order using a set.\"\"\"\n",
        "  return list(set(data_list))\n",
        "\n",
        "# Example usage\n",
        "original_list = [1, 2, 3, 2, 4, 3, 5]\n",
        "unique_list = remove_duplicates(original_list)\n",
        "print(f\"Original: {original_list}\")\n",
        "print(f\"Unique: {unique_list}\")"
      ],
      "metadata": {
        "colab": {
          "base_uri": "https://localhost:8080/"
        },
        "id": "URNl1ycOsgAK",
        "outputId": "6c46ebdb-f92b-49e2-fe88-76fc7bc93f63"
      },
      "execution_count": null,
      "outputs": [
        {
          "output_type": "stream",
          "name": "stdout",
          "text": [
            "Original: [1, 2, 3, 2, 4, 3, 5]\n",
            "Unique: [1, 2, 3, 4, 5]\n"
          ]
        }
      ]
    },
    {
      "cell_type": "code",
      "source": [
        "#16 Create a code to check if a given list is stored (either in ascending or\n",
        "# descending order)or not\n",
        "\n",
        "def is_sorted(lst):\n",
        "    if len(lst) < 2:\n",
        "        return True  # A list with 0 or 1 element is considered sorted\n",
        "\n",
        "    ascending = True\n",
        "    descending = True\n",
        "\n",
        "    for i in range(len(lst) - 1):\n",
        "        if lst[i] > lst[i + 1]:\n",
        "            ascending = False\n",
        "        if lst[i] < lst[i + 1]:\n",
        "            descending = False\n",
        "\n",
        "    return ascending or descending\n",
        "\n",
        "my_list1 = [1, 2, 3, 4, 5]\n",
        "my_list2 = [5, 4, 3, 2, 1]\n",
        "my_list3 = [1, 3, 2, 4, 5]\n",
        "\n",
        "print(is_sorted(my_list1))\n",
        "print(is_sorted(my_list2))\n",
        "print(is_sorted(my_list3))"
      ],
      "metadata": {
        "colab": {
          "base_uri": "https://localhost:8080/"
        },
        "id": "MjYPPZcGtbqf",
        "outputId": "63c0c07a-2dff-4965-92e2-41d0a648d7c3"
      },
      "execution_count": null,
      "outputs": [
        {
          "output_type": "stream",
          "name": "stdout",
          "text": [
            "True\n",
            "True\n",
            "False\n"
          ]
        }
      ]
    },
    {
      "cell_type": "code",
      "source": [
        "#17 write a code to marge two sorted lists into single sorted list\n",
        "\n",
        "def merge_sorted_lists(lst1, lst2):\n",
        "    merged_list = []\n",
        "    i, j = 0, 0\n",
        "\n",
        "    # Traverse both lists and append the smaller element to the merged list\n",
        "    while i < len(lst1) and j < len(lst2):\n",
        "        if lst1[i] < lst2[j]:\n",
        "            merged_list.append(lst1[i])\n",
        "            i += 1\n",
        "        else:\n",
        "            merged_list.append(lst2[j])\n",
        "            j += 1\n",
        "\n",
        "    # If there are remaining elements in lst1, append them to the merged list\n",
        "    while i < len(lst1):\n",
        "        merged_list.append(lst1[i])\n",
        "        i += 1\n",
        "\n",
        "    # If there are remaining elements in lst2, append them to the merged list\n",
        "    while j < len(lst2):\n",
        "        merged_list.append(lst2[j])\n",
        "        j += 1\n",
        "\n",
        "    return merged_list\n",
        "\n",
        "\n",
        "sorted_list1 = [1, 3, 5, 7]\n",
        "sorted_list2 = [2, 4, 6, 8]\n",
        "\n",
        "merged_list = merge_sorted_lists(sorted_list1, sorted_list2)\n",
        "print(merged_list)"
      ],
      "metadata": {
        "colab": {
          "base_uri": "https://localhost:8080/"
        },
        "id": "-J33p9HXuuA-",
        "outputId": "cd6b08bb-262a-4d4b-951a-4ab9e6efc4da"
      },
      "execution_count": null,
      "outputs": [
        {
          "output_type": "stream",
          "name": "stdout",
          "text": [
            "[1, 2, 3, 4, 5, 6, 7, 8]\n"
          ]
        }
      ]
    },
    {
      "cell_type": "code",
      "source": [
        "#18 implement a code to find the intersection of two given lists\n",
        "\n",
        "def find_intersection(list1, list2):\n",
        "  \"\"\"Finds the intersection of two lists using sets.\n",
        "\n",
        "  Args:\n",
        "      list1: The first list.\n",
        "      list2: The second list.\n",
        "\n",
        "  Returns:\n",
        "      A list containing the intersection elements.\n",
        "  \"\"\"\n",
        "  return list(set(list1) & set(list2))\n",
        "\n",
        "# Example usage\n",
        "list1 = [1, 2, 3, 4, 5]\n",
        "list2 = [3, 4, 5, 6, 7]\n",
        "intersection_list = find_intersection(list1, list2)\n",
        "print(intersection_list)\n"
      ],
      "metadata": {
        "colab": {
          "base_uri": "https://localhost:8080/"
        },
        "id": "NFu0FQiUv-k5",
        "outputId": "6952c685-d41e-4a46-e1ee-ed98639cdf03"
      },
      "execution_count": null,
      "outputs": [
        {
          "output_type": "stream",
          "name": "stdout",
          "text": [
            "[3, 4, 5]\n"
          ]
        }
      ]
    },
    {
      "cell_type": "code",
      "source": [
        "#19 create a code to find the union of two lists without duplicates\n",
        "def find_union(list1, list2):\n",
        "  \"\"\"Finds the union of two lists without duplicates.\n",
        "\n",
        "  Args:\n",
        "      list1: The first list.\n",
        "      list2: The second list.\n",
        "\n",
        "  Returns:\n",
        "      A list containing the union elements (no duplicates).\n",
        "  \"\"\"\n",
        "  # Combine elements using set union and convert back to list\n",
        "  return list(set(list1) | set(list2))\n",
        "\n",
        "list1 = [1, 2, 3, 4]\n",
        "list2 = [3, 4, 5, 6]\n",
        "union_list = find_union(list1, list2)\n",
        "print(union_list)\n"
      ],
      "metadata": {
        "colab": {
          "base_uri": "https://localhost:8080/"
        },
        "id": "TOxyC8R5wmUs",
        "outputId": "846ed60a-ec73-479d-89b8-d084cf631abb"
      },
      "execution_count": null,
      "outputs": [
        {
          "output_type": "stream",
          "name": "stdout",
          "text": [
            "[1, 2, 3, 4, 5, 6]\n"
          ]
        }
      ]
    },
    {
      "cell_type": "code",
      "source": [
        "#20 write a code to shuffle a given list randomly without using any built-in\n",
        "#shuffle functions.\n",
        "\n",
        "import random\n",
        "\n",
        "def shuffle_list(data_list):\n",
        "  \"\"\"Shuffles a list randomly without using built-in shuffle functions.\n",
        "\n",
        "  Args:\n",
        "      data_list: The list to shuffle.\n",
        "\n",
        "  Returns:\n",
        "      A new list with the elements of the original list shuffled.\n",
        "  \"\"\"\n",
        "  shuffled_list = []\n",
        "  while data_list:\n",
        "    # Select a random index from the remaining elements\n",
        "    random_index = random.randrange(len(data_list))\n",
        "    # Append the element at that index to the shuffled list\n",
        "    shuffled_list.append(data_list.pop(random_index))\n",
        "  return shuffled_list\n",
        "\n",
        "\n",
        "original_list = [1, 2, 3, 4, 5]\n",
        "shuffled_list = shuffle_list(original_list.copy())  # Avoid modifying original list\n",
        "print(f\"Original: {original_list}\")\n",
        "print(f\"Shuffled: {shuffled_list}\")"
      ],
      "metadata": {
        "colab": {
          "base_uri": "https://localhost:8080/"
        },
        "id": "weG1btmFxQKf",
        "outputId": "9ad2980b-edc4-498b-ff8a-c804ebb829b8"
      },
      "execution_count": null,
      "outputs": [
        {
          "output_type": "stream",
          "name": "stdout",
          "text": [
            "Original: [1, 2, 3, 4, 5]\n",
            "Shuffled: [5, 3, 1, 2, 4]\n"
          ]
        }
      ]
    },
    {
      "cell_type": "code",
      "source": [
        "#21 write a code that takes two tuples as input and returns a new tuple\n",
        "#containing elements that are common to both input tuples\n",
        "\n",
        "\n",
        "\n",
        "def find_common_elements(tuple1, tuple2):\n",
        "  \"\"\"Finds elements common to both input tuples and returns a new tuple.\n",
        "\n",
        "  Args:\n",
        "      tuple1: The first input tuple.\n",
        "      tuple2: The second input tuple.\n",
        "\n",
        "  Returns:\n",
        "      A new tuple containing elements common to both input tuples.\n",
        "  \"\"\"\n",
        "  # Convert tuples to sets for efficient intersection\n",
        "  common_elements = set(tuple1) & set(tuple2)\n",
        "  # Convert back to a tuple\n",
        "  return tuple(common_elements)\n",
        "\n",
        "\n",
        "tuple1 = (1, 2, 3, 4)\n",
        "tuple2 = (3, 4, 5, 6)\n",
        "common_tuple = find_common_elements(tuple1, tuple2)\n",
        "print(common_tuple)\n"
      ],
      "metadata": {
        "colab": {
          "base_uri": "https://localhost:8080/"
        },
        "id": "F8cgaWAz4_Wb",
        "outputId": "1001aeea-ec7a-498d-cebc-233e2f19e7e2"
      },
      "execution_count": null,
      "outputs": [
        {
          "output_type": "stream",
          "name": "stdout",
          "text": [
            "(3, 4)\n"
          ]
        }
      ]
    },
    {
      "cell_type": "code",
      "source": [
        "#22 create a code that prompts the user to enter two sets of integers separated\n",
        "#by commas.Then, print the interaction of these two sets\n",
        "\n",
        "def get_integer_set(prompt):\n",
        "  \"\"\"Prompts the user for a set of integers and returns a set.\n",
        "\n",
        "  Args:\n",
        "      prompt: The message to display to the user.\n",
        "\n",
        "  Returns:\n",
        "      A set containing the integers entered by the user.\n",
        "  \"\"\"\n",
        "  while True:\n",
        "    try:\n",
        "      # Get user input, split by commas, and convert to integers\n",
        "      user_input = input(prompt).strip()\n",
        "      integer_list = [int(num) for num in user_input.split(\",\")]\n",
        "      return set(integer_list)  # Remove duplicates and return as set\n",
        "    except ValueError:\n",
        "      print(\"Invalid input. Please enter comma-separated integers.\")\n",
        "\n",
        "def main():\n",
        "  \"\"\"Prompts user for two sets of integers and prints their intersection.\"\"\"\n",
        "  set1 = get_integer_set(\"Enter first set of integers (comma-separated): \")\n",
        "  set2 = get_integer_set(\"Enter second set of integers (comma-separated): \")\n",
        "\n",
        "  # Find intersection using set intersection operator\n",
        "  intersection = set1 & set2\n",
        "\n",
        "  if not intersection:\n",
        "    print(\"The sets have no common elements (intersection is empty).\")\n",
        "  else:\n",
        "    print(\"The intersection of the sets is:\", intersection)\n",
        "\n",
        "if __name__ == \"__main__\":\n",
        "  main()\n"
      ],
      "metadata": {
        "colab": {
          "base_uri": "https://localhost:8080/"
        },
        "id": "mNH-Zxc76rgJ",
        "outputId": "fa69b71b-f9e0-433b-d0bb-f8112ea84308"
      },
      "execution_count": null,
      "outputs": [
        {
          "output_type": "stream",
          "name": "stdout",
          "text": [
            "Enter first set of integers (comma-separated): 1,2,3,4\n",
            "Enter second set of integers (comma-separated): 1,5,8,9\n",
            "The intersection of the sets is: {1}\n"
          ]
        }
      ]
    },
    {
      "cell_type": "code",
      "source": [
        "#23 write a code to concatenate two tuples.The function should take two tuple\n",
        "#as input and return a new tuple contaning element from both input tuples\n",
        "\n",
        "def concatenate_tuples(tuple1, tuple2):\n",
        "  \"\"\"Concatenates two tuples and returns a new tuple.\n",
        "\n",
        "  Args:\n",
        "      tuple1: The first input tuple.\n",
        "      tuple2: The second input tuple.\n",
        "\n",
        "  Returns:\n",
        "      A new tuple containing elements from both input tuples.\n",
        "  \"\"\"\n",
        "  # Use tuple operator (*) for unpacking and concatenation\n",
        "  return tuple1 + tuple2\n",
        "\n",
        "# Example usage\n",
        "tuple1 = (1, 2, 3)\n",
        "tuple2 = (4, 5, 6)\n",
        "combined_tuple = concatenate_tuples(tuple1, tuple2)\n",
        "print(combined_tuple)"
      ],
      "metadata": {
        "colab": {
          "base_uri": "https://localhost:8080/"
        },
        "id": "w31H3yhD7ziz",
        "outputId": "a187222e-155b-479d-e32c-8e9898bb4860"
      },
      "execution_count": null,
      "outputs": [
        {
          "output_type": "stream",
          "name": "stdout",
          "text": [
            "(1, 2, 3, 4, 5, 6)\n"
          ]
        }
      ]
    },
    {
      "cell_type": "code",
      "source": [
        "#24 develop a code that prompts the user to input two sets of strings. Then,\n",
        "#print the elements that are present in the first set but not in the second set.\n",
        "\n",
        "\n",
        "\n",
        "\n",
        "def get_string_set(prompt):\n",
        "  \"\"\"Prompts the user for a set of strings and returns a set.\n",
        "\n",
        "  Args:\n",
        "      prompt: The message to display to the user.\n",
        "\n",
        "  Returns:\n",
        "      A set containing the strings entered by the user.\n",
        "  \"\"\"\n",
        "  while True:\n",
        "    user_input = input(prompt).strip()\n",
        "    if user_input:\n",
        "      return set(user_input.split())  # Remove duplicates and return as set\n",
        "    else:\n",
        "      print(\"Please enter at least one string.\")\n",
        "\n",
        "def main():\n",
        "  \"\"\"Prompts user for two string sets and prints the difference.\"\"\"\n",
        "  set1 = get_string_set(\"Enter first set of strings (space-separated): \")\n",
        "  set2 = get_string_set(\"Enter second set of strings (space-separated): \")\n",
        "\n",
        "  # Find difference using set difference operator\n",
        "  difference = set1 - set2\n",
        "\n",
        "  if not difference:\n",
        "    print(\"The first set has no elements that are not in the second set.\")\n",
        "  else:\n",
        "    print(\"Elements present in the first set but not in the second:\")\n",
        "    for element in difference:\n",
        "      print(element)\n",
        "\n",
        "if __name__ == \"__main__\":\n",
        "  main()\n"
      ],
      "metadata": {
        "colab": {
          "base_uri": "https://localhost:8080/"
        },
        "id": "7Sv-_KdKAMF3",
        "outputId": "9764157e-8396-487b-c229-7c338c5f3c74"
      },
      "execution_count": null,
      "outputs": [
        {
          "output_type": "stream",
          "name": "stdout",
          "text": [
            "Enter first set of strings (space-separated): [\"Dhanush\",\"Amogh\"]\n",
            "Enter second set of strings (space-separated): [\"Pavan\",\"Moith\"]\n",
            "Elements present in the first set but not in the second:\n",
            "[\"Dhanush\",\"Amogh\"]\n"
          ]
        }
      ]
    },
    {
      "cell_type": "code",
      "source": [
        "#25 create a code that takes a tuple and two integers as input. The function\n",
        "#should return a new tuple containing elements from the original tuple with in\n",
        "#the specified range of indices\n",
        "def get_sub_tuple(original_tuple, start_index, end_index):\n",
        "  \"\"\"Returns a new tuple containing elements from a specified range within the original tuple.\n",
        "\n",
        "  Args:\n",
        "      original_tuple: The input tuple.\n",
        "      start_index: The starting index (inclusive) for the slice.\n",
        "      end_index: The ending index (exclusive) for the slice.\n",
        "\n",
        "  Returns:\n",
        "      A new tuple containing elements from the original tuple within the specified range.\n",
        "  \"\"\"\n",
        "  # Handle negative or out-of-range indices\n",
        "  if start_index < 0 or end_index > len(original_tuple) or start_index >= end_index:\n",
        "    raise ValueError(\"Invalid indices. Start index must be non-negative, end index must be within the tuple length, and end index must be greater than start index.\")\n",
        "\n",
        "  # Use tuple slicing for efficient extraction\n",
        "  return original_tuple[start_index:end_index]\n",
        "\n",
        "original_tuple = (1, 2, 3, 4, 5)\n",
        "sub_tuple = get_sub_tuple(original_tuple, 1, 4)  # Get elements from index 1 (inclusive) to 4 (exclusive)\n",
        "print(sub_tuple)"
      ],
      "metadata": {
        "colab": {
          "base_uri": "https://localhost:8080/"
        },
        "id": "y-LZvBT0A_rh",
        "outputId": "ce78a9bd-e338-4d9b-9f6f-7f104c08b451"
      },
      "execution_count": null,
      "outputs": [
        {
          "output_type": "stream",
          "name": "stdout",
          "text": [
            "(2, 3, 4)\n"
          ]
        }
      ]
    },
    {
      "cell_type": "code",
      "source": [
        "#26 write code that prompts the user to input sets of characters.Then,\n",
        "#print the union of two sets.\n",
        "def get_char_set(prompt):\n",
        "  \"\"\"Prompts the user for a set of characters and returns a set.\n",
        "\n",
        "  Args:\n",
        "      prompt: The message to display to the user.\n",
        "\n",
        "  Returns:\n",
        "      A set containing the characters entered by the user.\n",
        "  \"\"\"\n",
        "  while True:\n",
        "    user_input = input(prompt).strip()\n",
        "    if user_input:\n",
        "      return set(user_input)  # Remove duplicates and return as set\n",
        "    else:\n",
        "      print(\"Please enter at least one character.\")\n",
        "\n",
        "def main():\n",
        "  \"\"\"Prompts user for two character sets and prints their union.\"\"\"\n",
        "  set1 = get_char_set(\"Enter first set of characters (no spaces): \")\n",
        "  set2 = get_char_set(\"Enter second set of characters (no spaces): \")\n",
        "\n",
        "  # Find union using set union operator\n",
        "  union_set = set1 | set2\n",
        "\n",
        "  print(\"The union of the sets is:\", union_set)\n",
        "\n",
        "if __name__ == \"__main__\":\n",
        "  main()\n"
      ],
      "metadata": {
        "colab": {
          "base_uri": "https://localhost:8080/"
        },
        "id": "8wPYuvjnCnKM",
        "outputId": "fbb5f5a5-fdbc-4c34-ceae-45d8b1fa0cf3"
      },
      "execution_count": null,
      "outputs": [
        {
          "output_type": "stream",
          "name": "stdout",
          "text": [
            "Enter first set of characters (no spaces): ({\"A\",\"B\"})\n",
            "Enter second set of characters (no spaces): ({\"C\",\"D\"})\n",
            "The union of the sets is: {'A', 'B', 'D', '\"', '(', '}', 'C', ')', ',', '{'}\n"
          ]
        }
      ]
    },
    {
      "cell_type": "code",
      "source": [
        "#27 Develop a code that takes a tuple of integers as input.The function\n",
        "#should return the count ofminimum values from the tuple using tuple unpacking\n",
        "\n",
        "def count_minimum_values(integer_tuple):\n",
        "  \"\"\"Counts the minimum values in a tuple of integers using tuple unpacking.\n",
        "\n",
        "  Args:\n",
        "      integer_tuple: The input tuple containing integers.\n",
        "\n",
        "  Returns:\n",
        "      The count of minimum values in the tuple.\n",
        "  \"\"\"\n",
        "  # Handle empty tuple\n",
        "  if not integer_tuple:\n",
        "    return 0\n",
        "\n",
        "  # Unpack the first element as the current minimum\n",
        "  min_value, *remaining_elements = integer_tuple\n",
        "\n",
        "  # Count occurrences of the minimum value\n",
        "  count = 1\n",
        "  for element in remaining_elements:\n",
        "    if element == min_value:\n",
        "      count += 1\n",
        "    # Update minimum if a smaller element is found\n",
        "    elif element < min_value:\n",
        "      min_value = element\n",
        "      count = 1  # Reset count for the new minimum\n",
        "\n",
        "  return count\n",
        "\n",
        "test_tuple = (1, 2, 3, 1, 2)\n",
        "min_count = count_minimum_values(test_tuple)\n",
        "print(\"Count of minimum values:\", min_count)"
      ],
      "metadata": {
        "id": "EnCeRPBiDovf",
        "colab": {
          "base_uri": "https://localhost:8080/"
        },
        "outputId": "3de91f12-208c-4e7d-9c81-8d9b01b24516"
      },
      "execution_count": 1,
      "outputs": [
        {
          "output_type": "stream",
          "name": "stdout",
          "text": [
            "Count of minimum values: 2\n"
          ]
        }
      ]
    },
    {
      "cell_type": "code",
      "source": [
        "# 28 create a code that defines two sets of integers.Then ,print the union,\n",
        "#interaction,and difference of these two sets\n",
        "\n",
        "def main():\n",
        "  \"\"\"Defines two sets of integers and prints their union, intersection, and difference.\"\"\"\n",
        "\n",
        "  # Define sets of integers\n",
        "  set1 = {1, 3, 5, 7}\n",
        "  set2 = {2, 4, 5, 6, 8}\n",
        "\n",
        "  # Find union using set union operator\n",
        "  union_set = set1 | set2\n",
        "  print(\"Union:\", union_set)  # All unique elements from both sets\n",
        "\n",
        "  # Find intersection using set intersection operator\n",
        "  intersection_set = set1 & set2\n",
        "  print(\"Intersection:\", intersection_set)  # Elements present in both sets\n",
        "\n",
        "  # Find difference using set difference operator\n",
        "  difference_set1 = set1 - set2  # Elements in set1 but not in set2\n",
        "  difference_set2 = set2 - set1  # Elements in set2 but not in set1\n",
        "\n",
        "  print(\"Difference (set1 - set2):\", difference_set1)\n",
        "  print(\"Difference (set2 - set1):\", difference_set2)\n",
        "\n",
        "if __name__ == \"__main__\":\n",
        "  main()\n"
      ],
      "metadata": {
        "colab": {
          "base_uri": "https://localhost:8080/"
        },
        "id": "7Fc3Lz-EjCvJ",
        "outputId": "4affadd4-3ddc-46f3-fc7f-12dab8add272"
      },
      "execution_count": 2,
      "outputs": [
        {
          "output_type": "stream",
          "name": "stdout",
          "text": [
            "Union: {1, 2, 3, 4, 5, 6, 7, 8}\n",
            "Intersection: {5}\n",
            "Difference (set1 - set2): {1, 3, 7}\n",
            "Difference (set2 - set1): {8, 2, 4, 6}\n"
          ]
        }
      ]
    },
    {
      "cell_type": "code",
      "source": [
        "#29 write a code that takes a tuple and an element as input.The function\n",
        "#shouldreturn the count of occurrence of the given element in tuple.\n",
        "\n",
        "def count_occurrences(data_tuple, element):\n",
        "  \"\"\"Counts the occurrences of a given element in a tuple.\n",
        "\n",
        "  Args:\n",
        "      data_tuple: The input tuple.\n",
        "      element: The element to search for.\n",
        "\n",
        "  Returns:\n",
        "      The count of occurrences of the element in the tuple.\n",
        "  \"\"\"\n",
        "  # Use count() method for efficient counting\n",
        "  return data_tuple.count(element)\n",
        "\n",
        "# Example usage\n",
        "test_tuple = (1, 2, 3, 2, 1, 2)\n",
        "element_to_find = 2\n",
        "count = count_occurrences(test_tuple, element_to_find)\n",
        "print(\"Count of\", element_to_find, \"in the tuple:\", count)"
      ],
      "metadata": {
        "colab": {
          "base_uri": "https://localhost:8080/"
        },
        "id": "lTNMkRwlkZ90",
        "outputId": "9df378d8-bdce-457e-a64b-82beb100a08d"
      },
      "execution_count": 3,
      "outputs": [
        {
          "output_type": "stream",
          "name": "stdout",
          "text": [
            "Count of 2 in the tuple: 3\n"
          ]
        }
      ]
    },
    {
      "cell_type": "code",
      "source": [
        "#30 Develop a code that prompts the user to input two sets of string. Then,\n",
        "#print the symmetrric difference of these two sets\n",
        "def get_string_set(prompt):\n",
        "  \"\"\"Prompts the user for a set of strings and returns a set.\n",
        "\n",
        "  Args:\n",
        "      prompt: The message to display to the user.\n",
        "\n",
        "  Returns:\n",
        "      A set containing the strings entered by the user.\n",
        "  \"\"\"\n",
        "  while True:\n",
        "    user_input = input(prompt).strip()\n",
        "    if user_input:\n",
        "      return set(user_input.split())  # Remove duplicates and return as set\n",
        "    else:\n",
        "      print(\"Please enter at least one string.\")\n",
        "\n",
        "def main():\n",
        "  \"\"\"Prompts user for two string sets and prints their symmetric difference.\"\"\"\n",
        "  set1 = get_string_set(\"Enter first set of strings (space-separated): \")\n",
        "  set2 = get_string_set(\"Enter second set of strings (space-separated): \")\n",
        "\n",
        "  # Find symmetric difference using set operations\n",
        "  sym_difference = set1 ^ set2\n",
        "\n",
        "  if not sym_difference:\n",
        "    print(\"The sets have no symmetric difference (elements are all the same or all different).\")\n",
        "  else:\n",
        "    print(\"The symmetric difference of the sets is:\")\n",
        "    for element in sym_difference:\n",
        "      print(element)\n",
        "\n",
        "if __name__ == \"__main__\":\n",
        "  main()\n"
      ],
      "metadata": {
        "colab": {
          "base_uri": "https://localhost:8080/"
        },
        "id": "ff-j3ulVlmgY",
        "outputId": "908e41f2-d1db-4228-f259-01f726006b6c"
      },
      "execution_count": 4,
      "outputs": [
        {
          "output_type": "stream",
          "name": "stdout",
          "text": [
            "Enter first set of strings (space-separated):   {\"pwsikills\",1,2,3}\n",
            "Enter second set of strings (space-separated): {\"dhanush\",1,2,3}\n",
            "The symmetric difference of the sets is:\n",
            "{\"dhanush\",1,2,3}\n",
            "{\"pwsikills\",1,2,3}\n"
          ]
        }
      ]
    },
    {
      "cell_type": "code",
      "source": [
        "#31 write a code that takes a list of words as input and returns adictionary\n",
        "#where the keys are unique words and the values are the frequencies of those words\n",
        "#input list.\n",
        "\n",
        "def count_occurrences(data_list):\n",
        "  \"\"\"Counts the occurrences of each element in a list and returns a dictionary.\n",
        "\n",
        "  Args:\n",
        "      data_list: The list to count element occurrences in.\n",
        "\n",
        "  Returns:\n",
        "      A dictionary with elements as keys and their counts as values.\n",
        "  \"\"\"\n",
        "\n",
        "  element_counts = {}\n",
        "  for element in data_list:\n",
        "    if element in element_counts:\n",
        "      element_counts[element] += 1\n",
        "    else:\n",
        "      element_counts[element] = 1\n",
        "  return element_counts\n",
        "\n",
        "# Example usage (no user input required)\n",
        "word_list = [\"apple\", \"banana\", \"apple\", \"cherry\", \"banana\"]\n",
        "word_counts = count_occurrences(word_list)\n",
        "print(word_counts)"
      ],
      "metadata": {
        "colab": {
          "base_uri": "https://localhost:8080/"
        },
        "id": "qiPH54rZmwzx",
        "outputId": "57ec6c8b-1896-4858-fda9-d36141f0c5cb"
      },
      "execution_count": 5,
      "outputs": [
        {
          "output_type": "stream",
          "name": "stdout",
          "text": [
            "{'apple': 2, 'banana': 2, 'cherry': 1}\n"
          ]
        }
      ]
    },
    {
      "cell_type": "code",
      "source": [
        "#32 write a code that takes two dictionaries as input and merges them into\n",
        "#a single dictionary.if there are common keys,the value should be added together\n",
        "\n",
        "def merge_dictionaries(dict1, dict2):\n",
        "  \"\"\"Merges two dictionaries, adding values for common keys.\n",
        "\n",
        "  Args:\n",
        "      dict1: The first input dictionary.\n",
        "      dict2: The second input dictionary.\n",
        "\n",
        "  Returns:\n",
        "      A new dictionary containing the merged key-value pairs.\n",
        "  \"\"\"\n",
        "  # Create a new dictionary to store the merged results\n",
        "  merged_dict = dict1.copy()\n",
        "\n",
        "  # Iterate through the second dictionary\n",
        "  for key, value in dict2.items():\n",
        "    # If the key exists in the first dictionary, add values\n",
        "    if key in merged_dict:\n",
        "      merged_dict[key] += value\n",
        "    # Otherwise, add the key-value pair directly\n",
        "    else:\n",
        "      merged_dict[key] = value\n",
        "\n",
        "  return merged_dict\n",
        "\n",
        "# Example usage\n",
        "dict1 = {\"a\": 1, \"b\": 2}\n",
        "dict2 = {\"a\": 3, \"c\": 4}\n",
        "merged_dict = merge_dictionaries(dict1, dict2)\n",
        "print(merged_dict)"
      ],
      "metadata": {
        "colab": {
          "base_uri": "https://localhost:8080/"
        },
        "id": "Asj00CUKpGFE",
        "outputId": "c18e915b-62ad-4983-eda4-3d213bcf3d6e"
      },
      "execution_count": 6,
      "outputs": [
        {
          "output_type": "stream",
          "name": "stdout",
          "text": [
            "{'a': 4, 'b': 2, 'c': 4}\n"
          ]
        }
      ]
    },
    {
      "cell_type": "code",
      "source": [
        "#33 write a code to acces a value in a nested dictionary the function should take dictionary\n",
        "#and a list of keys as input, and return the corresponding value.if any of the keys do not exist in the\n",
        "#dictionary,the function should return None.\n",
        "\n",
        "def get_nested_value(data_dict, key_list):\n",
        "  \"\"\"Accesses a value in a nested dictionary using a list of keys.\n",
        "\n",
        "  Args:\n",
        "      data_dict: The input dictionary (potentially nested).\n",
        "      key_list: A list containing the keys for traversing the nested structure.\n",
        "\n",
        "  Returns:\n",
        "      The value corresponding to the key list within the dictionary, or None if any key is missing.\n",
        "  \"\"\"\n",
        "\n",
        "  # Iterate through the key list\n",
        "  current_dict = data_dict\n",
        "  for key in key_list:\n",
        "    if key in current_dict:\n",
        "      current_dict = current_dict[key]\n",
        "    else:\n",
        "      return None  # Key not found, return None\n",
        "\n",
        "  # If all keys found, return the final value\n",
        "  return current_dict\n",
        "\n",
        "\n",
        "nested_dict = {\"data\": {\"inner\": {\"value\": 42}}}\n",
        "key_list = [\"data\", \"inner\", \"value\"]\n",
        "value = get_nested_value(nested_dict, key_list)\n",
        "print(value)\n",
        "\n",
        "missing_key_list = [\"data\", \"missing\", \"value\"]\n",
        "missing_value = get_nested_value(nested_dict, missing_key_list)\n",
        "print(missing_value)\n"
      ],
      "metadata": {
        "colab": {
          "base_uri": "https://localhost:8080/"
        },
        "id": "9VLohH56qCJH",
        "outputId": "939dea6c-7f13-480a-c227-1782e0b3f70e"
      },
      "execution_count": 7,
      "outputs": [
        {
          "output_type": "stream",
          "name": "stdout",
          "text": [
            "42\n",
            "None\n"
          ]
        }
      ]
    },
    {
      "cell_type": "code",
      "source": [
        "#34 write a code that takes a dictionary as input and returns a sorted version\n",
        "#of it based on the can choose whether to sort in ascending or descending order.\n",
        "\n",
        "def sort_dictionary(input_dict, sort_order=\"asc\"):\n",
        "  \"\"\"Sorts a dictionary by keys in ascending or descending order.\n",
        "\n",
        "  Args:\n",
        "      input_dict: The input dictionary to sort.\n",
        "      sort_order: Optional string, either \"asc\" (ascending) or \"desc\" (descending). Defaults to \"asc\".\n",
        "\n",
        "  Returns:\n",
        "      A new dictionary with keys sorted in the specified order.\n",
        "  \"\"\"\n",
        "\n",
        "  if sort_order.lower() not in (\"asc\", \"desc\"):\n",
        "    raise ValueError(\"Invalid sort order. Choose 'asc' or 'desc'.\")\n",
        "\n",
        "  # Use items() to sort by keys, then convert back to dictionary\n",
        "  sorted_items = sorted(input_dict.items(), key=lambda item: item[0], reverse=sort_order.lower() == \"desc\")\n",
        "  return dict(sorted_items)\n",
        "\n",
        "\n",
        "test_dict = {\"b\": 2, \"a\": 1, \"c\": 3}\n",
        "\n",
        "sorted_asc = sort_dictionary(test_dict.copy())\n",
        "print(\"Sorted ascending:\", sorted_asc)\n",
        "sorted_desc = sort_dictionary(test_dict.copy(), sort_order=\"desc\")\n",
        "print(\"Sorted descending:\", sorted_desc)"
      ],
      "metadata": {
        "colab": {
          "base_uri": "https://localhost:8080/"
        },
        "id": "HSn4tHQNrx2C",
        "outputId": "06fdb97a-ff23-4acd-a0eb-a7efbaaf24db"
      },
      "execution_count": 8,
      "outputs": [
        {
          "output_type": "stream",
          "name": "stdout",
          "text": [
            "Sorted ascending: {'a': 1, 'b': 2, 'c': 3}\n",
            "Sorted descending: {'c': 3, 'b': 2, 'a': 1}\n"
          ]
        }
      ]
    },
    {
      "cell_type": "code",
      "source": [
        "# 35 write a code that inverts a dictionary, swapping keys and values.\n",
        "#Ensure that the inverted dictionary correctly handles cases there multiple keys\n",
        "#have the same value by storing the keys as a list in the inverted dictionary\n",
        "\n",
        "\n",
        "def invert_dictionary(d):\n",
        "    inverted_dict = {}\n",
        "\n",
        "    for key, value in d.items():\n",
        "        if value not in inverted_dict:\n",
        "            inverted_dict[value] = [key]\n",
        "        else:\n",
        "            inverted_dict[value].append(key)\n",
        "\n",
        "    return inverted_dict\n",
        "\n",
        "# Example usage:\n",
        "original_dict = {\n",
        "    'a': 1,\n",
        "    'b': 2,\n",
        "    'c': 1,\n",
        "    'd': 3,\n",
        "    'e': 2\n",
        "}\n",
        "\n",
        "inverted_dict = invert_dictionary(original_dict)\n",
        "print(inverted_dict)\n",
        "\n"
      ],
      "metadata": {
        "colab": {
          "base_uri": "https://localhost:8080/"
        },
        "id": "K0pOUA9ZssCg",
        "outputId": "0d15b657-db76-43d9-8c47-77fe2b4f8acd"
      },
      "execution_count": 12,
      "outputs": [
        {
          "output_type": "stream",
          "name": "stdout",
          "text": [
            "{1: ['a', 'c'], 2: ['b', 'e'], 3: ['d']}\n"
          ]
        }
      ]
    },
    {
      "cell_type": "code",
      "source": [],
      "metadata": {
        "id": "J2pxANHPuH9h"
      },
      "execution_count": null,
      "outputs": []
    }
  ]
}